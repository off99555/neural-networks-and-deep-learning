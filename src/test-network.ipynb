{
 "cells": [
  {
   "cell_type": "code",
   "execution_count": 1,
   "metadata": {
    "collapsed": true
   },
   "outputs": [],
   "source": [
    "import network\n",
    "import mnist_loader"
   ]
  },
  {
   "cell_type": "code",
   "execution_count": 2,
   "metadata": {
    "collapsed": false
   },
   "outputs": [
    {
     "name": "stdout",
     "output_type": "stream",
     "text": [
      "Wall time: 1.52 s\n",
      "(50000, 10000, 10000)\n"
     ]
    }
   ],
   "source": [
    "# load MNIST data and print the data shape\n",
    "%time training_data, validation_data, test_data = mnist_loader.load_data_wrapper()\n",
    "print(len(training_data), len(validation_data), len(test_data))"
   ]
  },
  {
   "cell_type": "markdown",
   "metadata": {},
   "source": [
    "## Test 2 Layers Network (no hidden layers)"
   ]
  },
  {
   "cell_type": "code",
   "execution_count": 9,
   "metadata": {
    "collapsed": false,
    "scrolled": true
   },
   "outputs": [
    {
     "name": "stdout",
     "output_type": "stream",
     "text": [
      "Epoch 0: 7338 / 10000\n",
      "Epoch 1: 7458 / 10000\n",
      "Epoch 2: 7500 / 10000\n",
      "Epoch 3: 7523 / 10000\n",
      "Epoch 4: 7547 / 10000\n",
      "Epoch 5: 7532 / 10000\n",
      "Epoch 6: 7565 / 10000\n",
      "Epoch 7: 7542 / 10000\n",
      "Epoch 8: 7569 / 10000\n",
      "Epoch 9: 7559 / 10000\n",
      "Epoch 10: 7764 / 10000\n",
      "Epoch 11: 8352 / 10000\n",
      "Epoch 12: 8364 / 10000\n",
      "Epoch 13: 8364 / 10000\n",
      "Epoch 14: 8373 / 10000\n",
      "Epoch 15: 8360 / 10000\n",
      "Epoch 16: 8381 / 10000\n",
      "Epoch 17: 8386 / 10000\n",
      "Epoch 18: 8378 / 10000\n",
      "Epoch 19: 8380 / 10000\n",
      "Epoch 20: 8360 / 10000\n",
      "Epoch 21: 8408 / 10000\n",
      "Epoch 22: 8386 / 10000\n",
      "Epoch 23: 8359 / 10000\n",
      "Epoch 24: 8392 / 10000\n",
      "Epoch 25: 8380 / 10000\n",
      "Epoch 26: 8382 / 10000\n",
      "Epoch 27: 8412 / 10000\n",
      "Epoch 28: 8388 / 10000\n",
      "Epoch 29: 8378 / 10000\n",
      "Wall time: 1min 50s\n"
     ]
    }
   ],
   "source": [
    "net = network.Network([784, 10])\n",
    "%time net.SGD(training_data, 30, 10, 3.0, test_data=test_data)"
   ]
  },
  {
   "cell_type": "markdown",
   "metadata": {},
   "source": [
    "## Test 3 Layers Network"
   ]
  },
  {
   "cell_type": "code",
   "execution_count": 7,
   "metadata": {
    "collapsed": false,
    "scrolled": true
   },
   "outputs": [
    {
     "name": "stdout",
     "output_type": "stream",
     "text": [
      "Epoch 0: 9036 / 10000\n",
      "Epoch 1: 9180 / 10000\n",
      "Epoch 2: 9265 / 10000\n",
      "Epoch 3: 9321 / 10000\n",
      "Epoch 4: 9347 / 10000\n",
      "Epoch 5: 9394 / 10000\n",
      "Epoch 6: 9387 / 10000\n",
      "Epoch 7: 9409 / 10000\n",
      "Epoch 8: 9411 / 10000\n",
      "Epoch 9: 9418 / 10000\n",
      "Epoch 10: 9443 / 10000\n",
      "Epoch 11: 9428 / 10000\n",
      "Epoch 12: 9434 / 10000\n",
      "Epoch 13: 9451 / 10000\n",
      "Epoch 14: 9436 / 10000\n",
      "Epoch 15: 9450 / 10000\n",
      "Epoch 16: 9425 / 10000\n",
      "Epoch 17: 9436 / 10000\n",
      "Epoch 18: 9424 / 10000\n",
      "Epoch 19: 9467 / 10000\n",
      "Epoch 20: 9455 / 10000\n",
      "Epoch 21: 9469 / 10000\n",
      "Epoch 22: 9469 / 10000\n",
      "Epoch 23: 9439 / 10000\n",
      "Epoch 24: 9483 / 10000\n",
      "Epoch 25: 9471 / 10000\n",
      "Epoch 26: 9469 / 10000\n",
      "Epoch 27: 9450 / 10000\n",
      "Epoch 28: 9473 / 10000\n",
      "Epoch 29: 9483 / 10000\n",
      "Wall time: 3min 24s\n"
     ]
    }
   ],
   "source": [
    "net = network.Network([784, 30, 10])\n",
    "%time net.SGD(training_data, 30, 10, 3.0, test_data=test_data)"
   ]
  },
  {
   "cell_type": "code",
   "execution_count": null,
   "metadata": {
    "collapsed": true
   },
   "outputs": [],
   "source": []
  }
 ],
 "metadata": {
  "kernelspec": {
   "display_name": "Python 2",
   "language": "python",
   "name": "python2"
  },
  "language_info": {
   "codemirror_mode": {
    "name": "ipython",
    "version": 2
   },
   "file_extension": ".py",
   "mimetype": "text/x-python",
   "name": "python",
   "nbconvert_exporter": "python",
   "pygments_lexer": "ipython2",
   "version": "2.7.11"
  }
 },
 "nbformat": 4,
 "nbformat_minor": 0
}
